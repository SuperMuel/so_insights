{
 "cells": [
  {
   "cell_type": "code",
   "execution_count": 1,
   "metadata": {},
   "outputs": [],
   "source": [
    "import os\n",
    "from dotenv import load_dotenv\n",
    "load_dotenv(dotenv_path=\"backend/.env\")\n",
    "\n",
    "from shared.db import my_init_beanie,get_client\n",
    "\n",
    "\n",
    "client = get_client(os.environ['MONGODB_URI'])\n",
    "await my_init_beanie(client)"
   ]
  },
  {
   "cell_type": "code",
   "execution_count": 3,
   "metadata": {},
   "outputs": [
    {
     "data": {
      "text/plain": [
       "Article(id=ObjectId('667d1ef6fc45eb48396a6a11'), revision_id=None, workspace_id=ObjectId('66a3a6374a283178ee5bc60a'), title='EasyTranslate thinks augmenting LLMs with humans will give it an edge over pure AI translation services', url=Url('https://techcrunch.com/2024/06/26/easytranslate-thinks-augmenting-llms-with-humans-will-give-it-an-edge-over-pure-ai-translation-services/'), body='But now it\\'s headed in a new direction with a new, generative AI-driven platform that it calls \\'HumanAI\\'. \"We have pivoted the whole business model from a human service-based business model towards being an AI technology provider, driving down the ...', found_at=datetime.datetime(2024, 6, 26, 9, 51, 56, 553000), date=datetime.datetime(2024, 6, 26, 8, 0), region=<Region.NO_REGION: 'wt-wt'>, image=None, source='TechCrunch', vector_indexed=False)"
      ]
     },
     "execution_count": 3,
     "metadata": {},
     "output_type": "execute_result"
    }
   ],
   "source": [
    "from shared.models import Article\n",
    "\n",
    "from beanie import PydanticObjectId\n",
    "\n",
    "await Article.find_one()\n",
    "\n",
    "\n",
    "# articles_collection = Article.get_motor_collection()\n",
    "\n",
    "# await articles_collection.update_many({}, {\"$set\": {\"workspace_id\": PydanticObjectId(\"...\")}})"
   ]
  },
  {
   "cell_type": "code",
   "execution_count": null,
   "metadata": {},
   "outputs": [],
   "source": []
  }
 ],
 "metadata": {
  "kernelspec": {
   "display_name": ".venv",
   "language": "python",
   "name": "python3"
  },
  "language_info": {
   "codemirror_mode": {
    "name": "ipython",
    "version": 3
   },
   "file_extension": ".py",
   "mimetype": "text/x-python",
   "name": "python",
   "nbconvert_exporter": "python",
   "pygments_lexer": "ipython3",
   "version": "3.12.1"
  }
 },
 "nbformat": 4,
 "nbformat_minor": 2
}
